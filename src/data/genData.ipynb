{
 "cells": [
  {
   "cell_type": "markdown",
   "id": "b40e42ae",
   "metadata": {},
   "source": [
    "# Create some data to try for a volume"
   ]
  },
  {
   "cell_type": "code",
   "execution_count": 5,
   "id": "fd52ac9a",
   "metadata": {},
   "outputs": [],
   "source": [
    "import numpy as np\n",
    "import json"
   ]
  },
  {
   "cell_type": "code",
   "execution_count": 6,
   "id": "14c5550e",
   "metadata": {},
   "outputs": [
    {
     "name": "stdout",
     "output_type": "stream",
     "text": [
      "2097152\n"
     ]
    }
   ],
   "source": [
    "x_ = np.linspace(-1, 1, 128)\n",
    "#x_ = np.linspace(0., 1, 64)\n",
    "\n",
    "x, y, z = np.meshgrid(x_, x_, x_)\n",
    "# example from plotly: https://plotly.com/python/3d-volume-plots/\n",
    "data = np.sin(np.pi*x)*np.cos(np.pi*z)*np.sin(np.pi*y)\n",
    "#data = (data - np.min(data))/(np.max(data) - np.min(data))\n",
    "\n",
    "print(len(x.ravel()))"
   ]
  },
  {
   "cell_type": "code",
   "execution_count": 9,
   "id": "bfe5f1a6",
   "metadata": {
    "scrolled": true
   },
   "outputs": [],
   "source": [
    "out = {'data':data.ravel().tolist(), 'size':[len(x_),len(x_),len(x_)]}\n",
    "with open('data3D.json', 'w') as outfile:\n",
    "    json.dump(out, outfile)"
   ]
  },
  {
   "cell_type": "code",
   "execution_count": null,
   "id": "0380aa4e",
   "metadata": {},
   "outputs": [],
   "source": []
  }
 ],
 "metadata": {
  "kernelspec": {
   "display_name": "Python 3 (ipykernel)",
   "language": "python",
   "name": "python3"
  },
  "language_info": {
   "codemirror_mode": {
    "name": "ipython",
    "version": 3
   },
   "file_extension": ".py",
   "mimetype": "text/x-python",
   "name": "python",
   "nbconvert_exporter": "python",
   "pygments_lexer": "ipython3",
   "version": "3.9.7"
  }
 },
 "nbformat": 4,
 "nbformat_minor": 5
}
