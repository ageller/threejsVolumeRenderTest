{
 "cells": [
  {
   "cell_type": "markdown",
   "id": "b40e42ae",
   "metadata": {},
   "source": [
    "# Create some data to try for a volume"
   ]
  },
  {
   "cell_type": "code",
   "execution_count": 27,
   "id": "fd52ac9a",
   "metadata": {},
   "outputs": [],
   "source": [
    "import numpy as np\n",
    "import pandas as pd"
   ]
  },
  {
   "cell_type": "code",
   "execution_count": 54,
   "id": "14c5550e",
   "metadata": {},
   "outputs": [
    {
     "name": "stdout",
     "output_type": "stream",
     "text": [
      "2097152\n"
     ]
    }
   ],
   "source": [
    "x_ = np.linspace(-1, 1, 128)\n",
    "#x_ = np.linspace(0., 1, 64)\n",
    "\n",
    "x, y, z = np.meshgrid(x_, x_, x_)\n",
    "# example from plotly: https://plotly.com/python/3d-volume-plots/\n",
    "data = np.sin(np.pi*x)*np.cos(np.pi*z)*np.sin(np.pi*y)\n",
    "#data = (data - np.min(data))/(np.max(data) - np.min(data))\n",
    "\n",
    "print(len(x.ravel()))"
   ]
  },
  {
   "cell_type": "code",
   "execution_count": 55,
   "id": "bfe5f1a6",
   "metadata": {},
   "outputs": [],
   "source": [
    "pd.DataFrame({\n",
    "    'data':data.ravel()\n",
    "}).to_csv('data3D.csv', index=False)"
   ]
  },
  {
   "cell_type": "code",
   "execution_count": 45,
   "id": "b2ae0aac",
   "metadata": {},
   "outputs": [],
   "source": [
    "pd.DataFrame({\n",
    "    'xLength':[len(x_)],\n",
    "    'yLength':[len(x_)],\n",
    "    'zLength':[len(x_)]\n",
    "}).to_csv('data3Dsizes.csv', index=False)"
   ]
  },
  {
   "cell_type": "code",
   "execution_count": null,
   "id": "ef9d4d3a",
   "metadata": {},
   "outputs": [],
   "source": []
  }
 ],
 "metadata": {
  "kernelspec": {
   "display_name": "Python 3 (ipykernel)",
   "language": "python",
   "name": "python3"
  },
  "language_info": {
   "codemirror_mode": {
    "name": "ipython",
    "version": 3
   },
   "file_extension": ".py",
   "mimetype": "text/x-python",
   "name": "python",
   "nbconvert_exporter": "python",
   "pygments_lexer": "ipython3",
   "version": "3.9.7"
  }
 },
 "nbformat": 4,
 "nbformat_minor": 5
}
